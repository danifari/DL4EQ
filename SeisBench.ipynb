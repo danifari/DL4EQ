{
 "cells": [
  {
   "cell_type": "code",
   "execution_count": null,
   "metadata": {},
   "outputs": [],
   "source": [
    "from seisbench.datasets import STEAD\n",
    "\n",
    "# Load the STEAD dataset\n",
    "stead = STEAD()"
   ]
  }
 ],
 "metadata": {
  "kernelspec": {
   "display_name": "EQ",
   "language": "python",
   "name": "python3"
  },
  "language_info": {
   "name": "python",
   "version": "3.9.18"
  }
 },
 "nbformat": 4,
 "nbformat_minor": 2
}
